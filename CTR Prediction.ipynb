{
  "nbformat": 4,
  "nbformat_minor": 0,
  "metadata": {
    "colab": {
      "name": "Untitled0.ipynb",
      "provenance": [],
      "collapsed_sections": [],
      "toc_visible": true,
      "machine_shape": "hm",
      "mount_file_id": "15hWQFBiw43F8tSuAl_QlkuCjoqGDEJcF",
      "authorship_tag": "ABX9TyMgxLciqxJUFfWbDlBoA30G",
      "include_colab_link": true
    },
    "kernelspec": {
      "name": "python3",
      "display_name": "Python 3"
    },
    "accelerator": "TPU"
  },
  "cells": [
    {
      "cell_type": "markdown",
      "metadata": {
        "id": "view-in-github",
        "colab_type": "text"
      },
      "source": [
        "<a href=\"https://colab.research.google.com/github/mohammadshakournia/Data-Science-Projects/blob/master/CTR%20Prediction.ipynb\" target=\"_parent\"><img src=\"https://colab.research.google.com/assets/colab-badge.svg\" alt=\"Open In Colab\"/></a>"
      ]
    },
    {
      "cell_type": "code",
      "metadata": {
        "id": "A4kK4URIPwj7",
        "colab_type": "code",
        "colab": {}
      },
      "source": [
        "#!unzip -q \"/content/drive/My Drive/datadays2020_contest_public_dataset.zip\""
      ],
      "execution_count": 0,
      "outputs": []
    },
    {
      "cell_type": "code",
      "metadata": {
        "colab_type": "code",
        "id": "UF4whX-gA2Ex",
        "colab": {}
      },
      "source": [
        "import pandas as pd\n",
        "import numpy as np\n",
        "from sklearn.model_selection import train_test_split\n",
        "from sklearn.tree import DecisionTreeClassifier\n",
        "from sklearn import metrics\n",
        "\n",
        "ad=pd.read_csv('/content/drive/My Drive/datadays2020_contest_public_dataset.zip (Unzipped Files)/datadays2020_contest_public_dataset/ad.csv')\n",
        "ad_image=pd.read_csv('/content/drive/My Drive/datadays2020_contest_public_dataset.zip (Unzipped Files)/datadays2020_contest_public_dataset/ad_image.csv')\n",
        "click_train=pd.read_csv('/content/drive/My Drive/datadays2020_contest_public_dataset.zip (Unzipped Files)/datadays2020_contest_public_dataset/click_train.csv')\n",
        "event=pd.read_csv('/content/drive/My Drive/datadays2020_contest_public_dataset.zip (Unzipped Files)/datadays2020_contest_public_dataset/event.csv')\n",
        "click_test=pd.read_csv('/content/drive/My Drive/datadays2020_contest_public_dataset.zip (Unzipped Files)/datadays2020_contest_public_dataset/click_test.csv')\n",
        "ad_title=pd.read_csv('/content/drive/My Drive/datadays2020_contest_public_dataset.zip (Unzipped Files)/datadays2020_contest_public_dataset/ad_title.csv')\n"
      ],
      "execution_count": 0,
      "outputs": []
    },
    {
      "cell_type": "markdown",
      "metadata": {
        "id": "Jaot_lvX_RmK",
        "colab_type": "text"
      },
      "source": [
        "## **Preprocessing**"
      ]
    },
    {
      "cell_type": "markdown",
      "metadata": {
        "id": "76-nju7bTLNr",
        "colab_type": "text"
      },
      "source": [
        "Extract image feature of each ad to seprated columns"
      ]
    },
    {
      "cell_type": "code",
      "metadata": {
        "id": "JamhfF0WL5r3",
        "colab_type": "code",
        "colab": {}
      },
      "source": [
        "\n",
        "ad_image1=ad_image['imageFeatures'].values.tolist()\n",
        "\n",
        "for i in range(len(ad_image1)):\n",
        "    ad_image1[i]=ad_image1[i][1:len(ad_image1[i])-1]\n",
        "    ad_image1[i]=ad_image1[i].split(', ')\n",
        "\n",
        "ad_image1=[[float(i) for i in x] for x in ad_image1]\n",
        "\n",
        "dd=pd.DataFrame(ad_image1)\n",
        "dd['adId']=ad_image['adId']\n",
        "\n",
        "cols=dd.columns\n",
        "cols = ['adId']  + [col for col in dd if col != 'adId']\n",
        "ad_image = dd[cols]\n",
        "del dd,cols,ad_image1,i\n"
      ],
      "execution_count": 0,
      "outputs": []
    },
    {
      "cell_type": "markdown",
      "metadata": {
        "id": "XOv1XhqdTcPg",
        "colab_type": "text"
      },
      "source": [
        "Merge adId and ad_image for making a new complete dataframe for ad informations "
      ]
    },
    {
      "cell_type": "code",
      "metadata": {
        "id": "FoDSbfhZXAkG",
        "colab_type": "code",
        "colab": {}
      },
      "source": [
        "ad_info=pd.merge(ad,ad_image,how='inner',on='adId')"
      ],
      "execution_count": 0,
      "outputs": []
    },
    {
      "cell_type": "markdown",
      "metadata": {
        "id": "BrW9fbTgUMTy",
        "colab_type": "text"
      },
      "source": [
        "Calculate count of clicked ad from click_train dataset and divide them on whole view number of ads to take percentage of clicked ads.\n",
        "and remove ads with percentage less than the mean of all pecentages"
      ]
    },
    {
      "cell_type": "code",
      "metadata": {
        "id": "8ojIMDTdXAuo",
        "colab_type": "code",
        "colab": {}
      },
      "source": [
        "main=click_train[click_train['clicked']!=0]\n",
        "main=main.drop([\"displayId\",'clicked'],axis=1)\n",
        "main[\"clicked_number\"] = main.groupby([\"adId\"])[\"adId\"].transform(\"count\")\n",
        "clicked_ads=main.drop_duplicates()\n",
        "\n",
        "main2=pd.DataFrame(columns=['adId'])\n",
        "main2['adId']=click_train['adId']\n",
        "main2[\"total_viewed_number\"] = main2.groupby([\"adId\"])[\"adId\"].transform(\"count\")\n",
        "main2=main2.drop_duplicates()\n",
        "\n",
        "main_final=pd.merge(main2,clicked_ads,how='left',on=[\"adId\",\"adId\"])\n",
        "main_final=main_final.fillna(0)\n",
        "main_final['Percentage']=(main_final['clicked_number']/main_final['total_viewed_number'])*100\n",
        "clicked_ads_informations=pd.merge(click_train,main_final,how='left',on=['adId','adId'])\n",
        "\n",
        "del main,main2,clicked_ads,main_final\n",
        "\n",
        "clicked_ads_informations=clicked_ads_informations[clicked_ads_informations['Percentage']>(clicked_ads_informations['Percentage'].mean())]\n",
        "\n",
        "\n",
        "final=pd.merge(clicked_ads_informations,event,how='left',on='displayId')\n",
        "cols=final.columns.tolist()\n",
        "\n",
        "cols.remove(\"total_viewed_number\")\n",
        "cols.remove('clicked_number')\n",
        "cols.remove(\"Percentage\")\n",
        "\n",
        "cols.append(\"total_viewed_number\")\n",
        "cols.append('clicked_number')\n",
        "cols.append(\"Percentage\")\n",
        "\n",
        "final=final[cols]\n",
        "\n"
      ],
      "execution_count": 0,
      "outputs": []
    },
    {
      "cell_type": "markdown",
      "metadata": {
        "id": "i1wx2TpEU5N4",
        "colab_type": "text"
      },
      "source": [
        "merge click_test with even dataset because we need same kind of dataset for tarin and test datasets.\n",
        "remove timestamp column because this just shows how many times a user views a page"
      ]
    },
    {
      "cell_type": "code",
      "metadata": {
        "id": "lf6PFOIcLxfl",
        "colab_type": "code",
        "colab": {}
      },
      "source": [
        "click_test=pd.merge(click_test,event,how='left',on='displayId')\n",
        "click_test=click_test.drop(columns=['timestamp'])"
      ],
      "execution_count": 0,
      "outputs": []
    },
    {
      "cell_type": "markdown",
      "metadata": {
        "id": "XngNRSXWVU5P",
        "colab_type": "text"
      },
      "source": [
        "remove useless variable and columns"
      ]
    },
    {
      "cell_type": "code",
      "metadata": {
        "id": "dUhbyp3r4GkM",
        "colab_type": "code",
        "colab": {}
      },
      "source": [
        "final=final.drop(columns=['timestamp','Percentage'])"
      ],
      "execution_count": 0,
      "outputs": []
    },
    {
      "cell_type": "code",
      "metadata": {
        "id": "JjZCm68B8QbC",
        "colab_type": "code",
        "colab": {}
      },
      "source": [
        "final=final.drop(columns=['total_viewed_number','clicked_number'])"
      ],
      "execution_count": 0,
      "outputs": []
    },
    {
      "cell_type": "code",
      "metadata": {
        "id": "iHlzzAcw1Xyt",
        "colab_type": "code",
        "colab": {}
      },
      "source": [
        "df=pd.merge(final,ad_image,how='inner',on='adId')"
      ],
      "execution_count": 0,
      "outputs": []
    },
    {
      "cell_type": "code",
      "metadata": {
        "id": "5qSvUGEWOXuk",
        "colab_type": "code",
        "colab": {}
      },
      "source": [
        "click_test=pd.merge(click_test,ad_image,how='inner',on='adId')"
      ],
      "execution_count": 0,
      "outputs": []
    },
    {
      "cell_type": "code",
      "metadata": {
        "id": "oldwa_cC2XWl",
        "colab_type": "code",
        "colab": {}
      },
      "source": [
        "ad=0\n",
        "ad_image=0\n",
        "ad_info=0\n",
        "click_train=0\n",
        "clicked_ads_informations=0\n",
        "cols=0\n",
        "final=0\n",
        "event=0"
      ],
      "execution_count": 0,
      "outputs": []
    },
    {
      "cell_type": "markdown",
      "metadata": {
        "id": "l3LvFh4qVbL_",
        "colab_type": "text"
      },
      "source": [
        "one hot technique for extract word id of each ad"
      ]
    },
    {
      "cell_type": "code",
      "metadata": {
        "id": "mVfToBnl-NGw",
        "colab_type": "code",
        "colab": {}
      },
      "source": [
        "ad_title=ad_title.groupby('adId')['wordId'].apply(list)\n",
        "ad_title=ad_title.to_frame()\n",
        "ad_title.reset_index(level=0, inplace=True)\n",
        "ad_title['wordId'] =ad_title['wordId'].apply(lambda x : [int(i) for i in x])\n",
        "\n",
        "x=pd.get_dummies(ad_title['wordId'].apply(pd.Series).stack()).sum(level=0)\n",
        "x['adId']=ad_title['adId']\n",
        "\n",
        "cols=x.columns\n",
        "cols = ['adId']  + [col for col in x if col != 'adId']\n",
        "ad_title = x[cols]\n",
        "del x, cols\n"
      ],
      "execution_count": 0,
      "outputs": []
    },
    {
      "cell_type": "code",
      "metadata": {
        "id": "rIgBtOhCTEjP",
        "colab_type": "code",
        "colab": {}
      },
      "source": [
        "a=0\n",
        "ad_title=[]"
      ],
      "execution_count": 0,
      "outputs": []
    },
    {
      "cell_type": "code",
      "metadata": {
        "id": "Xmnajc-pLvr0",
        "colab_type": "code",
        "colab": {}
      },
      "source": [
        "ad=0\n",
        "ad_image=0\n",
        "ad_info=0\n",
        "click_train=0\n",
        "event=0\n",
        "final=0\n",
        "ad_title=0\n",
        "clicked_ads_informations=0"
      ],
      "execution_count": 0,
      "outputs": []
    },
    {
      "cell_type": "code",
      "metadata": {
        "id": "v-VC3IP4NL81",
        "colab_type": "code",
        "colab": {}
      },
      "source": [
        "y=df.clicked\n",
        "df=df.drop(columns=['clicked'])"
      ],
      "execution_count": 0,
      "outputs": []
    },
    {
      "cell_type": "code",
      "metadata": {
        "id": "cuwTxS3hP2qk",
        "colab_type": "code",
        "outputId": "50faf95e-ccc6-4b34-9b67-b3e1417eb8c6",
        "colab": {
          "base_uri": "https://localhost:8080/",
          "height": 37
        }
      },
      "source": [
        "import sys\n",
        "sys.getsizeof(df)"
      ],
      "execution_count": 0,
      "outputs": [
        {
          "output_type": "execute_result",
          "data": {
            "text/plain": [
              "6810253608"
            ]
          },
          "metadata": {
            "tags": []
          },
          "execution_count": 28
        }
      ]
    },
    {
      "cell_type": "markdown",
      "metadata": {
        "id": "qpNSTKAK_taq",
        "colab_type": "text"
      },
      "source": [
        "## **Train and Predict**"
      ]
    },
    {
      "cell_type": "markdown",
      "metadata": {
        "id": "E3XJJvLgVroQ",
        "colab_type": "text"
      },
      "source": [
        "train with decision tree"
      ]
    },
    {
      "cell_type": "code",
      "metadata": {
        "id": "S_FoLT0UUxbW",
        "colab_type": "code",
        "colab": {}
      },
      "source": [
        "clf = DecisionTreeClassifier()\n",
        "clf = clf.fit(df,y)"
      ],
      "execution_count": 0,
      "outputs": []
    },
    {
      "cell_type": "code",
      "metadata": {
        "id": "L2LWASX5U7_-",
        "colab_type": "code",
        "colab": {}
      },
      "source": [
        "y_pred = clf.predict(click_test)"
      ],
      "execution_count": 0,
      "outputs": []
    },
    {
      "cell_type": "markdown",
      "metadata": {
        "id": "scUsuidiVyZI",
        "colab_type": "text"
      },
      "source": [
        "make result dataset"
      ]
    },
    {
      "cell_type": "code",
      "metadata": {
        "id": "7borGQvuoZkQ",
        "colab_type": "code",
        "colab": {}
      },
      "source": [
        "resualt=pd.DataFrame()\n",
        "resualt['displayId']=click_test['displayId']\n",
        "resualt['adId']=click_test['adId']\n",
        "resualt['click_prediction']=y_pred\n"
      ],
      "execution_count": 0,
      "outputs": []
    },
    {
      "cell_type": "markdown",
      "metadata": {
        "id": "73bHomKRV60X",
        "colab_type": "text"
      },
      "source": [
        "based on clicked times for each ad we ranked it"
      ]
    },
    {
      "cell_type": "code",
      "metadata": {
        "id": "mBPVXD9ZpPjZ",
        "colab_type": "code",
        "colab": {}
      },
      "source": [
        "resualt['clicked_times_per_ad'] = resualt.groupby([\"adId\"])[\"click_prediction\"].transform(\"count\")\n"
      ],
      "execution_count": 0,
      "outputs": []
    },
    {
      "cell_type": "code",
      "metadata": {
        "id": "sKyFluswAHsJ",
        "colab_type": "code",
        "outputId": "0d368589-4115-4892-f035-d091f31dbc0b",
        "colab": {
          "base_uri": "https://localhost:8080/",
          "height": 424
        }
      },
      "source": [
        "resualt"
      ],
      "execution_count": 0,
      "outputs": [
        {
          "output_type": "execute_result",
          "data": {
            "text/html": [
              "<div>\n",
              "<style scoped>\n",
              "    .dataframe tbody tr th:only-of-type {\n",
              "        vertical-align: middle;\n",
              "    }\n",
              "\n",
              "    .dataframe tbody tr th {\n",
              "        vertical-align: top;\n",
              "    }\n",
              "\n",
              "    .dataframe thead th {\n",
              "        text-align: right;\n",
              "    }\n",
              "</style>\n",
              "<table border=\"1\" class=\"dataframe\">\n",
              "  <thead>\n",
              "    <tr style=\"text-align: right;\">\n",
              "      <th></th>\n",
              "      <th>displayId</th>\n",
              "      <th>adId</th>\n",
              "      <th>click_prediction</th>\n",
              "      <th>clicked_times_per_ad</th>\n",
              "    </tr>\n",
              "  </thead>\n",
              "  <tbody>\n",
              "    <tr>\n",
              "      <th>0</th>\n",
              "      <td>151650</td>\n",
              "      <td>7585</td>\n",
              "      <td>0</td>\n",
              "      <td>5941</td>\n",
              "    </tr>\n",
              "    <tr>\n",
              "      <th>1</th>\n",
              "      <td>240394</td>\n",
              "      <td>7585</td>\n",
              "      <td>0</td>\n",
              "      <td>5941</td>\n",
              "    </tr>\n",
              "    <tr>\n",
              "      <th>2</th>\n",
              "      <td>244567</td>\n",
              "      <td>7585</td>\n",
              "      <td>0</td>\n",
              "      <td>5941</td>\n",
              "    </tr>\n",
              "    <tr>\n",
              "      <th>3</th>\n",
              "      <td>244664</td>\n",
              "      <td>7585</td>\n",
              "      <td>0</td>\n",
              "      <td>5941</td>\n",
              "    </tr>\n",
              "    <tr>\n",
              "      <th>4</th>\n",
              "      <td>244777</td>\n",
              "      <td>7585</td>\n",
              "      <td>0</td>\n",
              "      <td>5941</td>\n",
              "    </tr>\n",
              "    <tr>\n",
              "      <th>...</th>\n",
              "      <td>...</td>\n",
              "      <td>...</td>\n",
              "      <td>...</td>\n",
              "      <td>...</td>\n",
              "    </tr>\n",
              "    <tr>\n",
              "      <th>1199043</th>\n",
              "      <td>1327627</td>\n",
              "      <td>7168</td>\n",
              "      <td>0</td>\n",
              "      <td>11</td>\n",
              "    </tr>\n",
              "    <tr>\n",
              "      <th>1199044</th>\n",
              "      <td>1327877</td>\n",
              "      <td>7168</td>\n",
              "      <td>0</td>\n",
              "      <td>11</td>\n",
              "    </tr>\n",
              "    <tr>\n",
              "      <th>1199045</th>\n",
              "      <td>1328140</td>\n",
              "      <td>7168</td>\n",
              "      <td>0</td>\n",
              "      <td>11</td>\n",
              "    </tr>\n",
              "    <tr>\n",
              "      <th>1199046</th>\n",
              "      <td>1328722</td>\n",
              "      <td>7168</td>\n",
              "      <td>0</td>\n",
              "      <td>11</td>\n",
              "    </tr>\n",
              "    <tr>\n",
              "      <th>1199047</th>\n",
              "      <td>1326880</td>\n",
              "      <td>7184</td>\n",
              "      <td>1</td>\n",
              "      <td>1</td>\n",
              "    </tr>\n",
              "  </tbody>\n",
              "</table>\n",
              "<p>1199048 rows × 4 columns</p>\n",
              "</div>"
            ],
            "text/plain": [
              "         displayId  adId  click_prediction  clicked_times_per_ad\n",
              "0           151650  7585                 0                  5941\n",
              "1           240394  7585                 0                  5941\n",
              "2           244567  7585                 0                  5941\n",
              "3           244664  7585                 0                  5941\n",
              "4           244777  7585                 0                  5941\n",
              "...            ...   ...               ...                   ...\n",
              "1199043    1327627  7168                 0                    11\n",
              "1199044    1327877  7168                 0                    11\n",
              "1199045    1328140  7168                 0                    11\n",
              "1199046    1328722  7168                 0                    11\n",
              "1199047    1326880  7184                 1                     1\n",
              "\n",
              "[1199048 rows x 4 columns]"
            ]
          },
          "metadata": {
            "tags": []
          },
          "execution_count": 33
        }
      ]
    },
    {
      "cell_type": "markdown",
      "metadata": {
        "id": "hfFSlZSeV2mv",
        "colab_type": "text"
      },
      "source": [
        "sort and make a rank column for result"
      ]
    },
    {
      "cell_type": "code",
      "metadata": {
        "id": "KeZdLeCt60jH",
        "colab_type": "code",
        "colab": {}
      },
      "source": [
        "resualt=resualt.sort_values(by=['displayId','clicked_times_per_ad'], ascending=False)"
      ],
      "execution_count": 0,
      "outputs": []
    },
    {
      "cell_type": "code",
      "metadata": {
        "id": "pSZTzBhpARNq",
        "colab_type": "code",
        "outputId": "ba80ad8b-0835-4768-e0a7-4467e78f0267",
        "colab": {
          "base_uri": "https://localhost:8080/",
          "height": 424
        }
      },
      "source": [
        "resualt"
      ],
      "execution_count": 0,
      "outputs": [
        {
          "output_type": "execute_result",
          "data": {
            "text/html": [
              "<div>\n",
              "<style scoped>\n",
              "    .dataframe tbody tr th:only-of-type {\n",
              "        vertical-align: middle;\n",
              "    }\n",
              "\n",
              "    .dataframe tbody tr th {\n",
              "        vertical-align: top;\n",
              "    }\n",
              "\n",
              "    .dataframe thead th {\n",
              "        text-align: right;\n",
              "    }\n",
              "</style>\n",
              "<table border=\"1\" class=\"dataframe\">\n",
              "  <thead>\n",
              "    <tr style=\"text-align: right;\">\n",
              "      <th></th>\n",
              "      <th>displayId</th>\n",
              "      <th>adId</th>\n",
              "      <th>click_prediction</th>\n",
              "      <th>clicked_times_per_ad</th>\n",
              "    </tr>\n",
              "  </thead>\n",
              "  <tbody>\n",
              "    <tr>\n",
              "      <th>693743</th>\n",
              "      <td>1328976</td>\n",
              "      <td>535</td>\n",
              "      <td>1</td>\n",
              "      <td>17501</td>\n",
              "    </tr>\n",
              "    <tr>\n",
              "      <th>807891</th>\n",
              "      <td>1328976</td>\n",
              "      <td>7182</td>\n",
              "      <td>0</td>\n",
              "      <td>11720</td>\n",
              "    </tr>\n",
              "    <tr>\n",
              "      <th>498028</th>\n",
              "      <td>1328976</td>\n",
              "      <td>7174</td>\n",
              "      <td>1</td>\n",
              "      <td>4335</td>\n",
              "    </tr>\n",
              "    <tr>\n",
              "      <th>855691</th>\n",
              "      <td>1328976</td>\n",
              "      <td>7167</td>\n",
              "      <td>0</td>\n",
              "      <td>944</td>\n",
              "    </tr>\n",
              "    <tr>\n",
              "      <th>123692</th>\n",
              "      <td>1328957</td>\n",
              "      <td>6515</td>\n",
              "      <td>0</td>\n",
              "      <td>41874</td>\n",
              "    </tr>\n",
              "    <tr>\n",
              "      <th>...</th>\n",
              "      <td>...</td>\n",
              "      <td>...</td>\n",
              "      <td>...</td>\n",
              "      <td>...</td>\n",
              "    </tr>\n",
              "    <tr>\n",
              "      <th>12150</th>\n",
              "      <td>151938</td>\n",
              "      <td>7715</td>\n",
              "      <td>0</td>\n",
              "      <td>387</td>\n",
              "    </tr>\n",
              "    <tr>\n",
              "      <th>8907</th>\n",
              "      <td>151938</td>\n",
              "      <td>7454</td>\n",
              "      <td>0</td>\n",
              "      <td>317</td>\n",
              "    </tr>\n",
              "    <tr>\n",
              "      <th>0</th>\n",
              "      <td>151650</td>\n",
              "      <td>7585</td>\n",
              "      <td>0</td>\n",
              "      <td>5941</td>\n",
              "    </tr>\n",
              "    <tr>\n",
              "      <th>7056</th>\n",
              "      <td>151650</td>\n",
              "      <td>6690</td>\n",
              "      <td>1</td>\n",
              "      <td>1851</td>\n",
              "    </tr>\n",
              "    <tr>\n",
              "      <th>5941</th>\n",
              "      <td>151650</td>\n",
              "      <td>6257</td>\n",
              "      <td>0</td>\n",
              "      <td>1115</td>\n",
              "    </tr>\n",
              "  </tbody>\n",
              "</table>\n",
              "<p>1199048 rows × 4 columns</p>\n",
              "</div>"
            ],
            "text/plain": [
              "        displayId  adId  click_prediction  clicked_times_per_ad\n",
              "693743    1328976   535                 1                 17501\n",
              "807891    1328976  7182                 0                 11720\n",
              "498028    1328976  7174                 1                  4335\n",
              "855691    1328976  7167                 0                   944\n",
              "123692    1328957  6515                 0                 41874\n",
              "...           ...   ...               ...                   ...\n",
              "12150      151938  7715                 0                   387\n",
              "8907       151938  7454                 0                   317\n",
              "0          151650  7585                 0                  5941\n",
              "7056       151650  6690                 1                  1851\n",
              "5941       151650  6257                 0                  1115\n",
              "\n",
              "[1199048 rows x 4 columns]"
            ]
          },
          "metadata": {
            "tags": []
          },
          "execution_count": 35
        }
      ]
    },
    {
      "cell_type": "code",
      "metadata": {
        "id": "-3wSah0V9_lN",
        "colab_type": "code",
        "outputId": "093635ab-64ab-4f8e-979e-aa6ad9c12d4d",
        "colab": {
          "base_uri": "https://localhost:8080/",
          "height": 424
        }
      },
      "source": [
        "z=resualt.click_prediction.eq(1).groupby(resualt.adId).sum().astype(int).reset_index()\n",
        "z"
      ],
      "execution_count": 0,
      "outputs": [
        {
          "output_type": "execute_result",
          "data": {
            "text/html": [
              "<div>\n",
              "<style scoped>\n",
              "    .dataframe tbody tr th:only-of-type {\n",
              "        vertical-align: middle;\n",
              "    }\n",
              "\n",
              "    .dataframe tbody tr th {\n",
              "        vertical-align: top;\n",
              "    }\n",
              "\n",
              "    .dataframe thead th {\n",
              "        text-align: right;\n",
              "    }\n",
              "</style>\n",
              "<table border=\"1\" class=\"dataframe\">\n",
              "  <thead>\n",
              "    <tr style=\"text-align: right;\">\n",
              "      <th></th>\n",
              "      <th>adId</th>\n",
              "      <th>click_prediction</th>\n",
              "    </tr>\n",
              "  </thead>\n",
              "  <tbody>\n",
              "    <tr>\n",
              "      <th>0</th>\n",
              "      <td>8</td>\n",
              "      <td>806</td>\n",
              "    </tr>\n",
              "    <tr>\n",
              "      <th>1</th>\n",
              "      <td>11</td>\n",
              "      <td>265</td>\n",
              "    </tr>\n",
              "    <tr>\n",
              "      <th>2</th>\n",
              "      <td>14</td>\n",
              "      <td>48</td>\n",
              "    </tr>\n",
              "    <tr>\n",
              "      <th>3</th>\n",
              "      <td>17</td>\n",
              "      <td>7567</td>\n",
              "    </tr>\n",
              "    <tr>\n",
              "      <th>4</th>\n",
              "      <td>19</td>\n",
              "      <td>601</td>\n",
              "    </tr>\n",
              "    <tr>\n",
              "      <th>...</th>\n",
              "      <td>...</td>\n",
              "      <td>...</td>\n",
              "    </tr>\n",
              "    <tr>\n",
              "      <th>1345</th>\n",
              "      <td>7862</td>\n",
              "      <td>2</td>\n",
              "    </tr>\n",
              "    <tr>\n",
              "      <th>1346</th>\n",
              "      <td>7863</td>\n",
              "      <td>1</td>\n",
              "    </tr>\n",
              "    <tr>\n",
              "      <th>1347</th>\n",
              "      <td>7865</td>\n",
              "      <td>1</td>\n",
              "    </tr>\n",
              "    <tr>\n",
              "      <th>1348</th>\n",
              "      <td>7866</td>\n",
              "      <td>0</td>\n",
              "    </tr>\n",
              "    <tr>\n",
              "      <th>1349</th>\n",
              "      <td>7867</td>\n",
              "      <td>1</td>\n",
              "    </tr>\n",
              "  </tbody>\n",
              "</table>\n",
              "<p>1350 rows × 2 columns</p>\n",
              "</div>"
            ],
            "text/plain": [
              "      adId  click_prediction\n",
              "0        8               806\n",
              "1       11               265\n",
              "2       14                48\n",
              "3       17              7567\n",
              "4       19               601\n",
              "...    ...               ...\n",
              "1345  7862                 2\n",
              "1346  7863                 1\n",
              "1347  7865                 1\n",
              "1348  7866                 0\n",
              "1349  7867                 1\n",
              "\n",
              "[1350 rows x 2 columns]"
            ]
          },
          "metadata": {
            "tags": []
          },
          "execution_count": 36
        }
      ]
    },
    {
      "cell_type": "code",
      "metadata": {
        "id": "_A0eKOxVcM3X",
        "colab_type": "code",
        "colab": {}
      },
      "source": [
        "resualt=pd.merge(resualt,z,how='inner',on='adId')\n",
        "#resualt"
      ],
      "execution_count": 0,
      "outputs": []
    },
    {
      "cell_type": "code",
      "metadata": {
        "id": "7RBxpJuYwb_w",
        "colab_type": "code",
        "outputId": "878739d3-a11a-4788-efb6-c038d73eb879",
        "colab": {
          "base_uri": "https://localhost:8080/",
          "height": 424
        }
      },
      "source": [
        "resualt"
      ],
      "execution_count": 0,
      "outputs": [
        {
          "output_type": "execute_result",
          "data": {
            "text/html": [
              "<div>\n",
              "<style scoped>\n",
              "    .dataframe tbody tr th:only-of-type {\n",
              "        vertical-align: middle;\n",
              "    }\n",
              "\n",
              "    .dataframe tbody tr th {\n",
              "        vertical-align: top;\n",
              "    }\n",
              "\n",
              "    .dataframe thead th {\n",
              "        text-align: right;\n",
              "    }\n",
              "</style>\n",
              "<table border=\"1\" class=\"dataframe\">\n",
              "  <thead>\n",
              "    <tr style=\"text-align: right;\">\n",
              "      <th></th>\n",
              "      <th>displayId</th>\n",
              "      <th>adId</th>\n",
              "      <th>click_prediction_x</th>\n",
              "      <th>clicked_times_per_ad</th>\n",
              "      <th>click_prediction_y</th>\n",
              "    </tr>\n",
              "  </thead>\n",
              "  <tbody>\n",
              "    <tr>\n",
              "      <th>0</th>\n",
              "      <td>1328976</td>\n",
              "      <td>535</td>\n",
              "      <td>1</td>\n",
              "      <td>17501</td>\n",
              "      <td>8729</td>\n",
              "    </tr>\n",
              "    <tr>\n",
              "      <th>1</th>\n",
              "      <td>1328920</td>\n",
              "      <td>535</td>\n",
              "      <td>1</td>\n",
              "      <td>17501</td>\n",
              "      <td>8729</td>\n",
              "    </tr>\n",
              "    <tr>\n",
              "      <th>2</th>\n",
              "      <td>1328906</td>\n",
              "      <td>535</td>\n",
              "      <td>0</td>\n",
              "      <td>17501</td>\n",
              "      <td>8729</td>\n",
              "    </tr>\n",
              "    <tr>\n",
              "      <th>3</th>\n",
              "      <td>1328893</td>\n",
              "      <td>535</td>\n",
              "      <td>1</td>\n",
              "      <td>17501</td>\n",
              "      <td>8729</td>\n",
              "    </tr>\n",
              "    <tr>\n",
              "      <th>4</th>\n",
              "      <td>1328889</td>\n",
              "      <td>535</td>\n",
              "      <td>1</td>\n",
              "      <td>17501</td>\n",
              "      <td>8729</td>\n",
              "    </tr>\n",
              "    <tr>\n",
              "      <th>...</th>\n",
              "      <td>...</td>\n",
              "      <td>...</td>\n",
              "      <td>...</td>\n",
              "      <td>...</td>\n",
              "      <td>...</td>\n",
              "    </tr>\n",
              "    <tr>\n",
              "      <th>1199043</th>\n",
              "      <td>249134</td>\n",
              "      <td>7865</td>\n",
              "      <td>1</td>\n",
              "      <td>3</td>\n",
              "      <td>1</td>\n",
              "    </tr>\n",
              "    <tr>\n",
              "      <th>1199044</th>\n",
              "      <td>248760</td>\n",
              "      <td>7865</td>\n",
              "      <td>0</td>\n",
              "      <td>3</td>\n",
              "      <td>1</td>\n",
              "    </tr>\n",
              "    <tr>\n",
              "      <th>1199045</th>\n",
              "      <td>247807</td>\n",
              "      <td>7865</td>\n",
              "      <td>0</td>\n",
              "      <td>3</td>\n",
              "      <td>1</td>\n",
              "    </tr>\n",
              "    <tr>\n",
              "      <th>1199046</th>\n",
              "      <td>247209</td>\n",
              "      <td>7867</td>\n",
              "      <td>1</td>\n",
              "      <td>1</td>\n",
              "      <td>1</td>\n",
              "    </tr>\n",
              "    <tr>\n",
              "      <th>1199047</th>\n",
              "      <td>244890</td>\n",
              "      <td>7866</td>\n",
              "      <td>0</td>\n",
              "      <td>1</td>\n",
              "      <td>0</td>\n",
              "    </tr>\n",
              "  </tbody>\n",
              "</table>\n",
              "<p>1199048 rows × 5 columns</p>\n",
              "</div>"
            ],
            "text/plain": [
              "         displayId  adId  ...  clicked_times_per_ad  click_prediction_y\n",
              "0          1328976   535  ...                 17501                8729\n",
              "1          1328920   535  ...                 17501                8729\n",
              "2          1328906   535  ...                 17501                8729\n",
              "3          1328893   535  ...                 17501                8729\n",
              "4          1328889   535  ...                 17501                8729\n",
              "...            ...   ...  ...                   ...                 ...\n",
              "1199043     249134  7865  ...                     3                   1\n",
              "1199044     248760  7865  ...                     3                   1\n",
              "1199045     247807  7865  ...                     3                   1\n",
              "1199046     247209  7867  ...                     1                   1\n",
              "1199047     244890  7866  ...                     1                   0\n",
              "\n",
              "[1199048 rows x 5 columns]"
            ]
          },
          "metadata": {
            "tags": []
          },
          "execution_count": 38
        }
      ]
    },
    {
      "cell_type": "code",
      "metadata": {
        "id": "e8IiSeuffjZD",
        "colab_type": "code",
        "colab": {}
      },
      "source": [
        "#resualt['Percentage']=(resualt['click_prediction_y']/resualt['clicked_times_per_ad'])*100\n",
        "#resualt"
      ],
      "execution_count": 0,
      "outputs": []
    },
    {
      "cell_type": "code",
      "metadata": {
        "id": "PJ65xRmtgEd7",
        "colab_type": "code",
        "colab": {}
      },
      "source": [
        "resualt=resualt.sort_values(by=['displayId','click_prediction_y'], ascending=False)"
      ],
      "execution_count": 0,
      "outputs": []
    },
    {
      "cell_type": "code",
      "metadata": {
        "id": "jUVurBBugHBE",
        "colab_type": "code",
        "outputId": "5bb11adc-f6a5-4563-862a-2611ac2bdc8c",
        "colab": {
          "base_uri": "https://localhost:8080/",
          "height": 424
        }
      },
      "source": [
        "resualt"
      ],
      "execution_count": 0,
      "outputs": [
        {
          "output_type": "execute_result",
          "data": {
            "text/html": [
              "<div>\n",
              "<style scoped>\n",
              "    .dataframe tbody tr th:only-of-type {\n",
              "        vertical-align: middle;\n",
              "    }\n",
              "\n",
              "    .dataframe tbody tr th {\n",
              "        vertical-align: top;\n",
              "    }\n",
              "\n",
              "    .dataframe thead th {\n",
              "        text-align: right;\n",
              "    }\n",
              "</style>\n",
              "<table border=\"1\" class=\"dataframe\">\n",
              "  <thead>\n",
              "    <tr style=\"text-align: right;\">\n",
              "      <th></th>\n",
              "      <th>displayId</th>\n",
              "      <th>adId</th>\n",
              "      <th>click_prediction_x</th>\n",
              "      <th>clicked_times_per_ad</th>\n",
              "      <th>click_prediction_y</th>\n",
              "    </tr>\n",
              "  </thead>\n",
              "  <tbody>\n",
              "    <tr>\n",
              "      <th>0</th>\n",
              "      <td>1328976</td>\n",
              "      <td>535</td>\n",
              "      <td>1</td>\n",
              "      <td>17501</td>\n",
              "      <td>8729</td>\n",
              "    </tr>\n",
              "    <tr>\n",
              "      <th>17501</th>\n",
              "      <td>1328976</td>\n",
              "      <td>7182</td>\n",
              "      <td>0</td>\n",
              "      <td>11720</td>\n",
              "      <td>4732</td>\n",
              "    </tr>\n",
              "    <tr>\n",
              "      <th>29221</th>\n",
              "      <td>1328976</td>\n",
              "      <td>7174</td>\n",
              "      <td>1</td>\n",
              "      <td>4335</td>\n",
              "      <td>2589</td>\n",
              "    </tr>\n",
              "    <tr>\n",
              "      <th>33556</th>\n",
              "      <td>1328976</td>\n",
              "      <td>7167</td>\n",
              "      <td>0</td>\n",
              "      <td>944</td>\n",
              "      <td>798</td>\n",
              "    </tr>\n",
              "    <tr>\n",
              "      <th>34500</th>\n",
              "      <td>1328957</td>\n",
              "      <td>6515</td>\n",
              "      <td>0</td>\n",
              "      <td>41874</td>\n",
              "      <td>3672</td>\n",
              "    </tr>\n",
              "    <tr>\n",
              "      <th>...</th>\n",
              "      <td>...</td>\n",
              "      <td>...</td>\n",
              "      <td>...</td>\n",
              "      <td>...</td>\n",
              "      <td>...</td>\n",
              "    </tr>\n",
              "    <tr>\n",
              "      <th>1167968</th>\n",
              "      <td>151938</td>\n",
              "      <td>123</td>\n",
              "      <td>0</td>\n",
              "      <td>424</td>\n",
              "      <td>146</td>\n",
              "    </tr>\n",
              "    <tr>\n",
              "      <th>1035553</th>\n",
              "      <td>151938</td>\n",
              "      <td>7454</td>\n",
              "      <td>0</td>\n",
              "      <td>317</td>\n",
              "      <td>100</td>\n",
              "    </tr>\n",
              "    <tr>\n",
              "      <th>1111040</th>\n",
              "      <td>151650</td>\n",
              "      <td>7585</td>\n",
              "      <td>0</td>\n",
              "      <td>5941</td>\n",
              "      <td>1307</td>\n",
              "    </tr>\n",
              "    <tr>\n",
              "      <th>1087560</th>\n",
              "      <td>151650</td>\n",
              "      <td>6690</td>\n",
              "      <td>1</td>\n",
              "      <td>1851</td>\n",
              "      <td>658</td>\n",
              "    </tr>\n",
              "    <tr>\n",
              "      <th>501436</th>\n",
              "      <td>151650</td>\n",
              "      <td>6257</td>\n",
              "      <td>0</td>\n",
              "      <td>1115</td>\n",
              "      <td>429</td>\n",
              "    </tr>\n",
              "  </tbody>\n",
              "</table>\n",
              "<p>1199048 rows × 5 columns</p>\n",
              "</div>"
            ],
            "text/plain": [
              "         displayId  adId  ...  clicked_times_per_ad  click_prediction_y\n",
              "0          1328976   535  ...                 17501                8729\n",
              "17501      1328976  7182  ...                 11720                4732\n",
              "29221      1328976  7174  ...                  4335                2589\n",
              "33556      1328976  7167  ...                   944                 798\n",
              "34500      1328957  6515  ...                 41874                3672\n",
              "...            ...   ...  ...                   ...                 ...\n",
              "1167968     151938   123  ...                   424                 146\n",
              "1035553     151938  7454  ...                   317                 100\n",
              "1111040     151650  7585  ...                  5941                1307\n",
              "1087560     151650  6690  ...                  1851                 658\n",
              "501436      151650  6257  ...                  1115                 429\n",
              "\n",
              "[1199048 rows x 5 columns]"
            ]
          },
          "metadata": {
            "tags": []
          },
          "execution_count": 41
        }
      ]
    },
    {
      "cell_type": "code",
      "metadata": {
        "id": "Qt6-8y7gfxfU",
        "colab_type": "code",
        "outputId": "0b81336b-8ae1-4be7-87ce-677ca2a48b2c",
        "colab": {
          "base_uri": "https://localhost:8080/",
          "height": 424
        }
      },
      "source": [
        "resualt['Rank']=resualt.groupby(['displayId'])[\"click_prediction_y\"].rank(ascending=False,method='first')\n",
        "resualt"
      ],
      "execution_count": 0,
      "outputs": [
        {
          "output_type": "execute_result",
          "data": {
            "text/html": [
              "<div>\n",
              "<style scoped>\n",
              "    .dataframe tbody tr th:only-of-type {\n",
              "        vertical-align: middle;\n",
              "    }\n",
              "\n",
              "    .dataframe tbody tr th {\n",
              "        vertical-align: top;\n",
              "    }\n",
              "\n",
              "    .dataframe thead th {\n",
              "        text-align: right;\n",
              "    }\n",
              "</style>\n",
              "<table border=\"1\" class=\"dataframe\">\n",
              "  <thead>\n",
              "    <tr style=\"text-align: right;\">\n",
              "      <th></th>\n",
              "      <th>displayId</th>\n",
              "      <th>adId</th>\n",
              "      <th>click_prediction_x</th>\n",
              "      <th>clicked_times_per_ad</th>\n",
              "      <th>click_prediction_y</th>\n",
              "      <th>Rank</th>\n",
              "    </tr>\n",
              "  </thead>\n",
              "  <tbody>\n",
              "    <tr>\n",
              "      <th>0</th>\n",
              "      <td>1328976</td>\n",
              "      <td>535</td>\n",
              "      <td>1</td>\n",
              "      <td>17501</td>\n",
              "      <td>8729</td>\n",
              "      <td>1.0</td>\n",
              "    </tr>\n",
              "    <tr>\n",
              "      <th>17501</th>\n",
              "      <td>1328976</td>\n",
              "      <td>7182</td>\n",
              "      <td>0</td>\n",
              "      <td>11720</td>\n",
              "      <td>4732</td>\n",
              "      <td>2.0</td>\n",
              "    </tr>\n",
              "    <tr>\n",
              "      <th>29221</th>\n",
              "      <td>1328976</td>\n",
              "      <td>7174</td>\n",
              "      <td>1</td>\n",
              "      <td>4335</td>\n",
              "      <td>2589</td>\n",
              "      <td>3.0</td>\n",
              "    </tr>\n",
              "    <tr>\n",
              "      <th>33556</th>\n",
              "      <td>1328976</td>\n",
              "      <td>7167</td>\n",
              "      <td>0</td>\n",
              "      <td>944</td>\n",
              "      <td>798</td>\n",
              "      <td>4.0</td>\n",
              "    </tr>\n",
              "    <tr>\n",
              "      <th>34500</th>\n",
              "      <td>1328957</td>\n",
              "      <td>6515</td>\n",
              "      <td>0</td>\n",
              "      <td>41874</td>\n",
              "      <td>3672</td>\n",
              "      <td>1.0</td>\n",
              "    </tr>\n",
              "    <tr>\n",
              "      <th>...</th>\n",
              "      <td>...</td>\n",
              "      <td>...</td>\n",
              "      <td>...</td>\n",
              "      <td>...</td>\n",
              "      <td>...</td>\n",
              "      <td>...</td>\n",
              "    </tr>\n",
              "    <tr>\n",
              "      <th>1167968</th>\n",
              "      <td>151938</td>\n",
              "      <td>123</td>\n",
              "      <td>0</td>\n",
              "      <td>424</td>\n",
              "      <td>146</td>\n",
              "      <td>5.0</td>\n",
              "    </tr>\n",
              "    <tr>\n",
              "      <th>1035553</th>\n",
              "      <td>151938</td>\n",
              "      <td>7454</td>\n",
              "      <td>0</td>\n",
              "      <td>317</td>\n",
              "      <td>100</td>\n",
              "      <td>6.0</td>\n",
              "    </tr>\n",
              "    <tr>\n",
              "      <th>1111040</th>\n",
              "      <td>151650</td>\n",
              "      <td>7585</td>\n",
              "      <td>0</td>\n",
              "      <td>5941</td>\n",
              "      <td>1307</td>\n",
              "      <td>1.0</td>\n",
              "    </tr>\n",
              "    <tr>\n",
              "      <th>1087560</th>\n",
              "      <td>151650</td>\n",
              "      <td>6690</td>\n",
              "      <td>1</td>\n",
              "      <td>1851</td>\n",
              "      <td>658</td>\n",
              "      <td>2.0</td>\n",
              "    </tr>\n",
              "    <tr>\n",
              "      <th>501436</th>\n",
              "      <td>151650</td>\n",
              "      <td>6257</td>\n",
              "      <td>0</td>\n",
              "      <td>1115</td>\n",
              "      <td>429</td>\n",
              "      <td>3.0</td>\n",
              "    </tr>\n",
              "  </tbody>\n",
              "</table>\n",
              "<p>1199048 rows × 6 columns</p>\n",
              "</div>"
            ],
            "text/plain": [
              "         displayId  adId  ...  click_prediction_y  Rank\n",
              "0          1328976   535  ...                8729   1.0\n",
              "17501      1328976  7182  ...                4732   2.0\n",
              "29221      1328976  7174  ...                2589   3.0\n",
              "33556      1328976  7167  ...                 798   4.0\n",
              "34500      1328957  6515  ...                3672   1.0\n",
              "...            ...   ...  ...                 ...   ...\n",
              "1167968     151938   123  ...                 146   5.0\n",
              "1035553     151938  7454  ...                 100   6.0\n",
              "1111040     151650  7585  ...                1307   1.0\n",
              "1087560     151650  6690  ...                 658   2.0\n",
              "501436      151650  6257  ...                 429   3.0\n",
              "\n",
              "[1199048 rows x 6 columns]"
            ]
          },
          "metadata": {
            "tags": []
          },
          "execution_count": 42
        }
      ]
    },
    {
      "cell_type": "code",
      "metadata": {
        "id": "FHxMBdoscOs0",
        "colab_type": "code",
        "colab": {}
      },
      "source": [
        "#Resualt_MRSH_team=resualt[['displayId','adId','Rank']]"
      ],
      "execution_count": 0,
      "outputs": []
    },
    {
      "cell_type": "code",
      "metadata": {
        "id": "gwkgLsMefb2K",
        "colab_type": "code",
        "colab": {}
      },
      "source": [
        "#Resualt_MRSH_team.to_csv('Resualt_MRSH_team.csv',index=False)"
      ],
      "execution_count": 0,
      "outputs": []
    },
    {
      "cell_type": "code",
      "metadata": {
        "colab_type": "code",
        "id": "vCdwLKrnh4dq",
        "colab": {}
      },
      "source": [
        "#res=pd.read_csv('/content/Resualt_MRSH_team.csv')"
      ],
      "execution_count": 0,
      "outputs": []
    },
    {
      "cell_type": "code",
      "metadata": {
        "id": "SkeUqocvmHIy",
        "colab_type": "code",
        "colab": {}
      },
      "source": [
        "#df.to_csv('Preprocessed_X_Train.csv',index=False)"
      ],
      "execution_count": 0,
      "outputs": []
    },
    {
      "cell_type": "code",
      "metadata": {
        "id": "N9fouU0MYZc2",
        "colab_type": "code",
        "colab": {}
      },
      "source": [
        "#resualt.reset_index(inplace=False)\n",
        "#resualt=resualt.sort_values(by=['displayId','clicked_times_per_ad'], ascending=False)\n",
        "#resualt['Rank']=resualt.groupby(['displayId'])[\"clicked_times_per_ad\"].rank(ascending=False)"
      ],
      "execution_count": 0,
      "outputs": []
    },
    {
      "cell_type": "code",
      "metadata": {
        "id": "2CFeHS65gYd7",
        "colab_type": "code",
        "outputId": "e1f37d27-52be-4637-de93-98290e08ab60",
        "colab": {
          "base_uri": "https://localhost:8080/",
          "height": 424
        }
      },
      "source": [
        "resualt=resualt.drop(columns=['click_prediction_x','clicked_times_per_ad','click_prediction_y'])\n",
        "resualt['Rank']=resualt['Rank'].astype(int)\n",
        "resualt"
      ],
      "execution_count": 0,
      "outputs": [
        {
          "output_type": "execute_result",
          "data": {
            "text/html": [
              "<div>\n",
              "<style scoped>\n",
              "    .dataframe tbody tr th:only-of-type {\n",
              "        vertical-align: middle;\n",
              "    }\n",
              "\n",
              "    .dataframe tbody tr th {\n",
              "        vertical-align: top;\n",
              "    }\n",
              "\n",
              "    .dataframe thead th {\n",
              "        text-align: right;\n",
              "    }\n",
              "</style>\n",
              "<table border=\"1\" class=\"dataframe\">\n",
              "  <thead>\n",
              "    <tr style=\"text-align: right;\">\n",
              "      <th></th>\n",
              "      <th>displayId</th>\n",
              "      <th>adId</th>\n",
              "      <th>Rank</th>\n",
              "    </tr>\n",
              "  </thead>\n",
              "  <tbody>\n",
              "    <tr>\n",
              "      <th>0</th>\n",
              "      <td>1328976</td>\n",
              "      <td>535</td>\n",
              "      <td>1</td>\n",
              "    </tr>\n",
              "    <tr>\n",
              "      <th>17501</th>\n",
              "      <td>1328976</td>\n",
              "      <td>7182</td>\n",
              "      <td>2</td>\n",
              "    </tr>\n",
              "    <tr>\n",
              "      <th>29221</th>\n",
              "      <td>1328976</td>\n",
              "      <td>7174</td>\n",
              "      <td>3</td>\n",
              "    </tr>\n",
              "    <tr>\n",
              "      <th>33556</th>\n",
              "      <td>1328976</td>\n",
              "      <td>7167</td>\n",
              "      <td>4</td>\n",
              "    </tr>\n",
              "    <tr>\n",
              "      <th>34500</th>\n",
              "      <td>1328957</td>\n",
              "      <td>6515</td>\n",
              "      <td>1</td>\n",
              "    </tr>\n",
              "    <tr>\n",
              "      <th>...</th>\n",
              "      <td>...</td>\n",
              "      <td>...</td>\n",
              "      <td>...</td>\n",
              "    </tr>\n",
              "    <tr>\n",
              "      <th>1167968</th>\n",
              "      <td>151938</td>\n",
              "      <td>123</td>\n",
              "      <td>5</td>\n",
              "    </tr>\n",
              "    <tr>\n",
              "      <th>1035553</th>\n",
              "      <td>151938</td>\n",
              "      <td>7454</td>\n",
              "      <td>6</td>\n",
              "    </tr>\n",
              "    <tr>\n",
              "      <th>1111040</th>\n",
              "      <td>151650</td>\n",
              "      <td>7585</td>\n",
              "      <td>1</td>\n",
              "    </tr>\n",
              "    <tr>\n",
              "      <th>1087560</th>\n",
              "      <td>151650</td>\n",
              "      <td>6690</td>\n",
              "      <td>2</td>\n",
              "    </tr>\n",
              "    <tr>\n",
              "      <th>501436</th>\n",
              "      <td>151650</td>\n",
              "      <td>6257</td>\n",
              "      <td>3</td>\n",
              "    </tr>\n",
              "  </tbody>\n",
              "</table>\n",
              "<p>1199048 rows × 3 columns</p>\n",
              "</div>"
            ],
            "text/plain": [
              "         displayId  adId  Rank\n",
              "0          1328976   535     1\n",
              "17501      1328976  7182     2\n",
              "29221      1328976  7174     3\n",
              "33556      1328976  7167     4\n",
              "34500      1328957  6515     1\n",
              "...            ...   ...   ...\n",
              "1167968     151938   123     5\n",
              "1035553     151938  7454     6\n",
              "1111040     151650  7585     1\n",
              "1087560     151650  6690     2\n",
              "501436      151650  6257     3\n",
              "\n",
              "[1199048 rows x 3 columns]"
            ]
          },
          "metadata": {
            "tags": []
          },
          "execution_count": 48
        }
      ]
    },
    {
      "cell_type": "code",
      "metadata": {
        "id": "BXRgPm0V9mwz",
        "colab_type": "code",
        "outputId": "8034c999-44fe-4e4b-863f-0b9016b13aa6",
        "colab": {
          "base_uri": "https://localhost:8080/",
          "height": 300
        }
      },
      "source": [
        "x=resualt[resualt['displayId']==250719]\n",
        "x"
      ],
      "execution_count": 0,
      "outputs": [
        {
          "output_type": "execute_result",
          "data": {
            "text/html": [
              "<div>\n",
              "<style scoped>\n",
              "    .dataframe tbody tr th:only-of-type {\n",
              "        vertical-align: middle;\n",
              "    }\n",
              "\n",
              "    .dataframe tbody tr th {\n",
              "        vertical-align: top;\n",
              "    }\n",
              "\n",
              "    .dataframe thead th {\n",
              "        text-align: right;\n",
              "    }\n",
              "</style>\n",
              "<table border=\"1\" class=\"dataframe\">\n",
              "  <thead>\n",
              "    <tr style=\"text-align: right;\">\n",
              "      <th></th>\n",
              "      <th>displayId</th>\n",
              "      <th>adId</th>\n",
              "      <th>Rank</th>\n",
              "    </tr>\n",
              "  </thead>\n",
              "  <tbody>\n",
              "    <tr>\n",
              "      <th>453163</th>\n",
              "      <td>250719</td>\n",
              "      <td>48</td>\n",
              "      <td>1</td>\n",
              "    </tr>\n",
              "    <tr>\n",
              "      <th>1039430</th>\n",
              "      <td>250719</td>\n",
              "      <td>7455</td>\n",
              "      <td>2</td>\n",
              "    </tr>\n",
              "    <tr>\n",
              "      <th>657839</th>\n",
              "      <td>250719</td>\n",
              "      <td>7224</td>\n",
              "      <td>3</td>\n",
              "    </tr>\n",
              "    <tr>\n",
              "      <th>769679</th>\n",
              "      <td>250719</td>\n",
              "      <td>6394</td>\n",
              "      <td>4</td>\n",
              "    </tr>\n",
              "    <tr>\n",
              "      <th>490366</th>\n",
              "      <td>250719</td>\n",
              "      <td>42</td>\n",
              "      <td>5</td>\n",
              "    </tr>\n",
              "    <tr>\n",
              "      <th>1155517</th>\n",
              "      <td>250719</td>\n",
              "      <td>7709</td>\n",
              "      <td>6</td>\n",
              "    </tr>\n",
              "    <tr>\n",
              "      <th>1182992</th>\n",
              "      <td>250719</td>\n",
              "      <td>7789</td>\n",
              "      <td>7</td>\n",
              "    </tr>\n",
              "    <tr>\n",
              "      <th>1155819</th>\n",
              "      <td>250719</td>\n",
              "      <td>7710</td>\n",
              "      <td>8</td>\n",
              "    </tr>\n",
              "  </tbody>\n",
              "</table>\n",
              "</div>"
            ],
            "text/plain": [
              "         displayId  adId  Rank\n",
              "453163      250719    48     1\n",
              "1039430     250719  7455     2\n",
              "657839      250719  7224     3\n",
              "769679      250719  6394     4\n",
              "490366      250719    42     5\n",
              "1155517     250719  7709     6\n",
              "1182992     250719  7789     7\n",
              "1155819     250719  7710     8"
            ]
          },
          "metadata": {
            "tags": []
          },
          "execution_count": 49
        }
      ]
    },
    {
      "cell_type": "code",
      "metadata": {
        "id": "mCCy6x2Dgva9",
        "colab_type": "code",
        "colab": {}
      },
      "source": [
        "resualt.to_csv('Resualt_MRSH_team_v2.4.csv',index=False)"
      ],
      "execution_count": 0,
      "outputs": []
    }
  ]
}